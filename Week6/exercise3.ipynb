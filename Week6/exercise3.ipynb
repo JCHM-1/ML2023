{
  "nbformat": 4,
  "nbformat_minor": 0,
  "metadata": {
    "colab": {
      "provenance": []
    },
    "kernelspec": {
      "name": "python3",
      "display_name": "Python 3"
    },
    "language_info": {
      "name": "python"
    }
  },
  "cells": [
    {
      "cell_type": "code",
      "execution_count": 12,
      "metadata": {
        "colab": {
          "base_uri": "https://localhost:8080/",
          "height": 1000
        },
        "id": "cXJzlNHwrMdR",
        "outputId": "0a5ab1e1-c165-42f6-df10-70676c5f7aa2"
      },
      "outputs": [
        {
          "output_type": "stream",
          "name": "stdout",
          "text": [
            "Laden van de data...\n",
            "Done.\n",
            "Formaat van de train_images: (60000, 28, 28)\n",
            "Formaat van de train_labels: (60000,)\n",
            "Formaat van de test_images: (10000, 28, 28)\n",
            "Formaat van de test_labels: (10000,)\n",
            "Grootte van de labels: 10\n",
            "Plotten van een willekeurig plaatje uit de trainings-dataset\n"
          ]
        },
        {
          "output_type": "display_data",
          "data": {
            "text/plain": [
              "<Figure size 640x480 with 2 Axes>"
            ],
            "image/png": "[encoded data removed]"
          },
          "metadata": {}
        },
        {
          "output_type": "stream",
          "name": "stdout",
          "text": [
            "Druk op enter om verder te gaan...\n",
            "Aanroepen van de methode scale_data met de matrix:\n",
            "[[1 2 3 4]\n",
            " [2 2 4 4]\n",
            " [4 3 2 1]]\n",
            "[[0.25 0.5  0.75 1.  ]\n",
            " [0.5  0.5  1.   1.  ]\n",
            " [1.   0.75 0.5  0.25]]\n",
            "Het resultaat zou gelijk moeten zijn aan:\n",
            "[[0.25 0.5  0.75 1.  ]\n",
            " [0.5  0.5  1.   1.  ]\n",
            " [1.   0.75 0.5  0.25]]\n",
            "Druk op enter om verder te gaan...\n",
            "\n",
            "Aanmaken van het model.\n",
            "Trainen van het model...\n",
            "Epoch 1/6\n",
            "1875/1875 [==============================] - 8s 4ms/step - loss: 0.5052 - accuracy: 0.8231\n",
            "Epoch 2/6\n",
            "1875/1875 [==============================] - 8s 4ms/step - loss: 0.3793 - accuracy: 0.8637\n",
            "Epoch 3/6\n",
            "1875/1875 [==============================] - 7s 4ms/step - loss: 0.3385 - accuracy: 0.8766\n",
            "Epoch 4/6\n",
            "1875/1875 [==============================] - 8s 4ms/step - loss: 0.3121 - accuracy: 0.8868\n",
            "Epoch 5/6\n",
            "1875/1875 [==============================] - 7s 4ms/step - loss: 0.2949 - accuracy: 0.8908\n",
            "Epoch 6/6\n",
            "1875/1875 [==============================] - 8s 4ms/step - loss: 0.2791 - accuracy: 0.8965\n",
            "Training afgerond.\n",
            "Druk op enter om verder te gaan...\n",
            "\n",
            "Bepalen van de confusion matrix van het getrainde netwerk.\n",
            "313/313 [==============================] - 1s 2ms/step\n",
            "De confusion matrix:\n",
            "tf.Tensor(\n",
            "[[759   1  23  40   4   0 166   0   7   0]\n",
            " [  2 964   1  22   4   0   7   0   0   0]\n",
            " [  8   1 833  15  82   0  61   0   0   0]\n",
            " [ 11   4  10 926  23   0  25   0   1   0]\n",
            " [  0   1 132  44 764   0  59   0   0   0]\n",
            " [  0   0   0   1   0 957   0  33   2   7]\n",
            " [ 69   0 106  46  76   0 699   0   4   0]\n",
            " [  0   0   0   0   0  11   0 968   0  21]\n",
            " [  2   0  11   6  10   1  18   4 948   0]\n",
            " [  0   0   0   0   0  20   1  46   0 933]], shape=(10, 10), dtype=int32)\n"
          ]
        },
        {
          "output_type": "display_data",
          "data": {
            "text/plain": [
              "<Figure size 640x480 with 0 Axes>"
            ]
          },
          "metadata": {}
        },
        {
          "output_type": "display_data",
          "data": {
            "text/plain": [
              "<Figure size 480x480 with 1 Axes>"
            ],
            "image/png": "[encoded data removed]"
          },
          "metadata": {}
        },
        {
          "output_type": "stream",
          "name": "stdout",
          "text": [
            "Bepalen van de tp, tn, fp, fn\n",
            "[('T-shirt/topje', 759, 92, 241, 8908), ('Broek', 964, 7, 36, 8993), ('Pullover', 833, 283, 167, 8717), ('Jurk', 926, 174, 74, 8826), ('Jas', 764, 199, 236, 8801), ('Sandalen', 957, 32, 43, 8968), ('Shirt', 699, 337, 301, 8663), ('Sneaker', 968, 83, 32, 8917), ('Tas', 948, 14, 52, 8986), ('Lage laars', 933, 28, 67, 8972)]\n",
            "Bepalen van de scores:\n",
            "{'tpr': 0.8751, 'ppv': 0.8751, 'tnr': 0.9861222222222222, 'fpr': 0.013877777777777777}\n",
            "Klaar...\n"
          ]
        }
      ],
      "source": [
        "import numpy as np\n",
        "import matplotlib.pyplot as plt\n",
        "import tensorflow as tf\n",
        "from tensorflow import keras\n",
        "from random import randint\n",
        "import sys\n",
        "\n",
        "\"\"\"\n",
        "Als je een foutmelding krijgt met SSL, dan helpt dit onderstaande.\n",
        "https://github.com/tensorflow/tensorflow/issues/33285\n",
        "\"\"\"\n",
        "import requests\n",
        "requests.packages.urllib3.disable_warnings()\n",
        "import ssl\n",
        "\n",
        "try:\n",
        "    _create_unverified_https_context = ssl._create_unverified_context\n",
        "except AttributeError:\n",
        "    # Legacy Python that doesn't verify HTTPS certificates by default\n",
        "    pass\n",
        "else:\n",
        "    # Handle target environment that doesn't support HTTPS verification\n",
        "    ssl._create_default_https_context = _create_unverified_https_context\n",
        "\"\"\"\n",
        "Tot hier (SSL error)\n",
        "\"\"\"\n",
        "\n",
        "# ==============================================\n",
        "# HELPER FUNCTIES\n",
        "def plot_matrix(data):\n",
        "    plt.figure()\n",
        "    plt.matshow(data)\n",
        "    plt.show()\n",
        "\n",
        "\n",
        "# ==== Laden van de data en zetten van belangrijke variabelen ====\n",
        "print (\"Laden van de data...\")\n",
        "(train_images, train_labels), (test_images, test_labels) = tf.keras.datasets.fashion_mnist.load_data()\n",
        "labels = ['T-shirt/topje', 'Broek', 'Pullover', 'Jurk', 'Jas', 'Sandalen', 'Shirt', 'Sneaker', 'Tas', 'Lage laars']\n",
        "print (\"Done.\")\n",
        "\n",
        "print (f\"Formaat van de train_images: {train_images.shape}\")\n",
        "print (f\"Formaat van de train_labels: {train_labels.shape}\")\n",
        "print (f\"Formaat van de test_images: {test_images.shape}\")\n",
        "print (f\"Formaat van de test_labels: {test_labels.shape}\")\n",
        "print (f\"Grootte van de labels: {len(labels)}\")\n",
        "\n",
        "# ===============  OPGAVE 1 ======================\n",
        "# ===============  OPGAVE 1a ======================\n",
        "print (\"Plotten van een willekeurig plaatje uit de trainings-dataset\")\n",
        "if (len(sys.argv)>1 and sys.argv[1]=='skip') :\n",
        "    print (\"Slaan we over\")\n",
        "else:\n",
        "    rnd = randint(0, train_images.shape[0])\n",
        "    hyp = labels[train_labels[rnd]]\n",
        "    plot_image(train_images[rnd], hyp)\n",
        "\n",
        "input (\"Druk op enter om verder te gaan...\")\n",
        "\n",
        "# ===============  OPGAVE 1b ======================\n",
        "X = np.array( ([1,2,3,4],[2,2,4,4],[4,3,2,1]) )\n",
        "r = X/4\n",
        "print (\"Aanroepen van de methode scale_data met de matrix:\")\n",
        "print (X)\n",
        "print (scale_data(X))\n",
        "print (\"Het resultaat zou gelijk moeten zijn aan:\")\n",
        "print (r)\n",
        "\n",
        "train_images = scale_data(train_images)\n",
        "test_images = scale_data(test_images)\n",
        "\n",
        "input (\"Druk op enter om verder te gaan...\")\n",
        "\n",
        "# ===============  OPGAVE 1c ======================\n",
        "print (\"\")\n",
        "print (\"Aanmaken van het model.\")\n",
        "model = build_model()\n",
        "print (\"Trainen van het model...\")\n",
        "model.fit(train_images, train_labels, epochs=6)\n",
        "print (\"Training afgerond.\")\n",
        "\n",
        "input (\"Druk op enter om verder te gaan...\")\n",
        "\n",
        "# ===============  OPGAVE 2 ======================\n",
        "print (\"\")\n",
        "print (\"Bepalen van de confusion matrix van het getrainde netwerk.\")\n",
        "pred = np.argmax(model.predict(test_images), axis=1)\n",
        "conf_mtx = conf_matrix(test_labels, pred)\n",
        "\n",
        "print (\"De confusion matrix:\")\n",
        "print (conf_mtx)\n",
        "\n",
        "if (len(sys.argv)>1 and sys.argv[1]=='skip') :\n",
        "    print (\"Tekenen slaan we over\")\n",
        "else:\n",
        "    plot_matrix(conf_mtx)\n",
        "\n",
        "\n",
        "print (\"Bepalen van de tp, tn, fp, fn\")\n",
        "metrics = conf_els(conf_mtx.numpy(), labels)\n",
        "print (metrics)\n",
        "print (\"Bepalen van de scores:\")\n",
        "scores = conf_data(metrics)\n",
        "print (scores)\n",
        "\n",
        "\n",
        "print (\"Klaar...\")"
      ]
    },
    {
      "cell_type": "code",
      "source": [
        "# OPGAVE 1a\n",
        "def plot_image(img, label):\n",
        "    # Deze methode krijgt een matrix mee (in img) en een label dat correspondeert met het\n",
        "    # plaatje dat in de matrix is weergegeven. Zorg ervoor dat dit grafisch wordt weergegeven.\n",
        "    # Maak gebruik van plt.cm.binary voor de cmap-parameter van plt.imgshow.\n",
        "\n",
        "    # YOUR CODE HERE\n",
        "    plt.imshow(img, cmap=plt.cm.binary)\n",
        "    plt.xlabel(label)\n",
        "    plt.colorbar()\n",
        "    plt.grid(False)\n",
        "    plt.show()"
      ],
      "metadata": {
        "id": "l1eFiL5hrRMv"
      },
      "execution_count": 1,
      "outputs": []
    },
    {
      "cell_type": "code",
      "source": [
        "# OPGAVE 1b\n",
        "def scale_data(X):\n",
        "    # Deze methode krijgt een matrix mee waarin getallen zijn opgeslagen van 0..m, en hij\n",
        "    # moet dezelfde matrix retourneren met waarden van 0..1. Deze methode moet werken voor\n",
        "    # alle maximale waarde die in de matrix voorkomt.\n",
        "    # Deel alle elementen in de matrix 'element wise' door de grootste waarde in deze matrix.\n",
        "\n",
        "    # YOUR CODE HERE\n",
        "    max_value = np.amax(X)\n",
        "    scaled_X = X / max_value\n",
        "\n",
        "    return scaled_X"
      ],
      "metadata": {
        "id": "fOjF4hpy6zEn"
      },
      "execution_count": 3,
      "outputs": []
    },
    {
      "cell_type": "code",
      "source": [
        "# OPGAVE 1c\n",
        "def build_model():\n",
        "    # Deze methode maakt het keras-model dat we gebruiken voor de classificatie van de mnist\n",
        "    # dataset. Je hoeft deze niet abstract te maken, dus je kunt er van uitgaan dat de input\n",
        "    # layer van dit netwerk alleen geschikt is voor de plaatjes in de opgave (wat is de\n",
        "    # dimensionaliteit hiervan?).\n",
        "    # Maak een model met een input-laag, een volledig verbonden verborgen laag en een softmax\n",
        "    # output-laag. Compileer het netwerk vervolgens met de gegevens die in opgave gegeven zijn\n",
        "    # en retourneer het resultaat.\n",
        "\n",
        "    # Het staat je natuurlijk vrij om met andere settings en architecturen te experimenteren.\n",
        "\n",
        "    # YOUR CODE HERE\n",
        "\n",
        "    model = tf.keras.Sequential([\n",
        "        tf.keras.layers.Flatten(input_shape=(28, 28)),  # Input-laag voor 28x28 plaatjes\n",
        "        tf.keras.layers.Dense(128, activation=tf.nn.relu),  # Verborgen laag met ReLU-activatie\n",
        "        tf.keras.layers.Dense(10, activation=tf.nn.softmax)  # Output-laag met softmax-activatie voor classificatie\n",
        "    ])\n",
        "\n",
        "    model.compile(optimizer='adam', loss='sparse_categorical_crossentropy', metrics=['accuracy'])\n",
        "\n",
        "    return model"
      ],
      "metadata": {
        "id": "4uqckqiD8JG7"
      },
      "execution_count": 5,
      "outputs": []
    },
    {
      "cell_type": "code",
      "source": [
        "# OPGAVE 2a\n",
        "def conf_matrix(labels, pred):\n",
        "    # Retourneer de econfusion matrix op basis van de gegeven voorspelling (pred) en de actuele\n",
        "    # waarden (labels). Check de documentatie van tf.math.confusion_matrix:\n",
        "    # https://www.tensorflow.org/api_docs/python/tf/math/confusion_matrix\n",
        "\n",
        "    # YOUR CODE HERE\n",
        "    confusion = tf.math.confusion_matrix(labels, pred)\n",
        "    return confusion"
      ],
      "metadata": {
        "id": "4ugmVq-l9S1d"
      },
      "execution_count": 8,
      "outputs": []
    },
    {
      "cell_type": "code",
      "source": [
        "# OPGAVE 2b\n",
        "def conf_els(conf, labels):\n",
        "    # Deze methode krijgt een confusion matrix mee (conf) en een set van labels. Als het goed is, is\n",
        "    # de dimensionaliteit van de matrix gelijk aan len(labels) × len(labels) (waarom?). Bereken de\n",
        "    # waarden van de TP, FP, FN en TN conform de berekening in de opgave. Maak vervolgens gebruik van\n",
        "    # de methodes zip() en list() om een list van len(labels) te retourneren, waarbij elke tupel\n",
        "    # als volgt is gedefinieerd:\n",
        "\n",
        "    #     (categorie:string, tp:int, fp:int, fn:int, tn:int)\n",
        "\n",
        "    # Check de documentatie van numpy diagonal om de eerste waarde te bepalen.\n",
        "    # https://numpy.org/doc/stable/reference/generated/numpy.diagonal.html\n",
        "\n",
        "    # YOUR CODE HERE\n",
        "    conf = np.array(conf)\n",
        "    conf = np.array(conf, dtype=int)\n",
        "\n",
        "    conf_els_list = []\n",
        "\n",
        "    for i in range(len(labels)):\n",
        "        category = labels[i]  # Huidige categorie\n",
        "        tp = conf[i, i]  # True Positives\n",
        "        fp = np.sum(conf[:, i]) - tp  # False Positives\n",
        "        fn = np.sum(conf[i, :]) - tp  # False Negatives\n",
        "        tn = np.sum(np.delete(np.delete(conf, i, axis=0), i, axis=1))  # True Negatives\n",
        "\n",
        "        conf_els_list.append((category, tp, fp, fn, tn))\n",
        "\n",
        "    return conf_els_list"
      ],
      "metadata": {
        "id": "h9BtG0f994ZE"
      },
      "execution_count": 9,
      "outputs": []
    },
    {
      "cell_type": "code",
      "source": [
        "# OPGAVE 2c\n",
        "def conf_data(metrics):\n",
        "    # Deze methode krijgt de lijst mee die je in de vorige opgave hebt gemaakt (dus met lengte len(labels))\n",
        "    # Maak gebruik van een list-comprehension om de totale tp, fp, fn, en tn te berekenen en\n",
        "    # bepaal vervolgens de metrieken die in de opgave genoemd zijn. Retourneer deze waarden in de\n",
        "    # vorm van een dictionary (de scaffold hiervan is gegeven).\n",
        "\n",
        "    # Bereken de totale waarden voor TP, FP, FN en TN over alle labels\n",
        "    total_tp = sum(tp for _, tp, _, _, _ in metrics)\n",
        "    total_fp = sum(fp for _, _, fp, _, _ in metrics)\n",
        "    total_fn = sum(fn for _, _, _, fn, _ in metrics)\n",
        "    total_tn = sum(tn for _, _, _, _, tn in metrics)\n",
        "\n",
        "    # Bereken de metrieken op basis van de totale waarden\n",
        "    tpr = total_tp / (total_tp + total_fn)  # True Positive Rate (Recall)\n",
        "    ppv = total_tp / (total_tp + total_fp)  # Positive Predictive Value (Precision)\n",
        "    tnr = total_tn / (total_tn + total_fp)  # True Negative Rate\n",
        "    fpr = total_fp / (total_tn + total_fp)  # False Positive Rate\n",
        "\n",
        "    return {'tpr': tpr, 'ppv': ppv, 'tnr': tnr, 'fpr': fpr}"
      ],
      "metadata": {
        "id": "jBRtvr-c95w5"
      },
      "execution_count": 10,
      "outputs": []
    }
  ]
}